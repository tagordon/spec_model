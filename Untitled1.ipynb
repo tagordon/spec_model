{
 "cells": [
  {
   "cell_type": "code",
   "execution_count": null,
   "id": "76ce98e3-d1ee-45c5-9e4f-4bfdfc3b72be",
   "metadata": {
    "tags": []
   },
   "outputs": [],
   "source": [
    "import numpy as np\n",
    "import jax.numpy as jnp\n",
    "import jax\n",
    "import spec_model\n",
    "from generate_data import generate\n",
    "import tinygp\n",
    "import matplotlib.pyplot as plt"
   ]
  },
  {
   "cell_type": "code",
   "execution_count": null,
   "id": "dd7a19f2-dba7-4955-84a5-ec650d45369b",
   "metadata": {
    "tags": []
   },
   "outputs": [],
   "source": [
    "f = lambda x, amp, mu, sig: amp * np.exp(- 0.5 * (x - mu)**2 / sig**2)\n",
    "t = np.linspace(0, 10, 100)\n",
    "\n",
    "nbands = 4\n",
    "\n",
    "offsets = np.array([0, 1, 3, 6]) * 100\n",
    "amps = np.array([0.9, 0.8, 0.7])\n",
    "diags = np.array([0.1, 0.2, 0.3, 0.4]) * 10\n",
    "\n",
    "mean_params = np.tile(np.array([20, 5, 0.1]), (nbands , 1))\n",
    "#mean_params[:, 0] = np.array([20, 50, 100, 200])\n",
    "\n",
    "terms = [tinygp.kernels.quasisep.Matern32]\n",
    "gp_params = np.array([[0.3, 2.0]])\n",
    "\n",
    "data = generate(t, f, terms, nbands, offsets, amps, diags, mean_params, gp_params, seed=42)\n",
    "plt.figure(figsize=(12, 10))\n",
    "[plt.plot(t, data[i::nbands], '.') for i in range(nbands)];"
   ]
  },
  {
   "cell_type": "code",
   "execution_count": null,
   "id": "54e814fe-dc55-48ec-adae-fe90a072c942",
   "metadata": {
    "tags": []
   },
   "outputs": [],
   "source": [
    "f = lambda x, amp, mu, sig, off: amp * jnp.exp(- 0.5 * (x - mu)**2 / sig**2) + off\n",
    "terms = [tinygp.kernels.quasisep.Matern32]\n",
    "\n",
    "model = spec_model.Model(t, f, terms, 4, hold_params=['mu', 'sig', 'amp'])\n",
    "model.labels"
   ]
  },
  {
   "cell_type": "code",
   "execution_count": null,
   "id": "9167a5c2-08da-450c-bcfc-2e53c7ec46b0",
   "metadata": {
    "tags": []
   },
   "outputs": [],
   "source": [
    "init_position = np.array([20, 5, 0.1, 0, 100, 300, 600, 0.3, 2.0, 1, 2, 3, 4, 0.9, 0.8, 0.7])\n",
    "model.train(data, init_position, n_loops=50)"
   ]
  },
  {
   "cell_type": "code",
   "execution_count": null,
   "id": "a0b572b8-fa4e-4362-b8c1-12c9496220f0",
   "metadata": {
    "tags": []
   },
   "outputs": [],
   "source": [
    "utils.plot_nf_samples(plt.gca(), model)"
   ]
  },
  {
   "cell_type": "code",
   "execution_count": null,
   "id": "e51eab9f-bec2-4378-9da8-5601a6d48fd4",
   "metadata": {
    "tags": []
   },
   "outputs": [],
   "source": [
    "import utils\n",
    "\n",
    "fig, axs = plt.subplots(1, 3, figsize=(15, 5))\n",
    "utils.plot_nf_convergence(axs, model)"
   ]
  },
  {
   "cell_type": "code",
   "execution_count": null,
   "id": "32e2bfff-9a90-4ed0-b2f0-fc2c942756ee",
   "metadata": {
    "tags": []
   },
   "outputs": [],
   "source": [
    "model.run_production(data, init_position, n_loops=500, step_size=5e-4)"
   ]
  },
  {
   "cell_type": "code",
   "execution_count": null,
   "id": "228df754-1e67-41f9-a0df-85e55e984aec",
   "metadata": {
    "tags": []
   },
   "outputs": [],
   "source": [
    "import corner\n",
    "\n",
    "chains, log_prob, local_accs, global_accs = model.production_sampler.get_sampler_state().values()\n",
    "samples = chains.reshape(-1, len(model.labels))[::10, :]\n",
    "figure = corner.corner(samples, truths=init_position, labels=model.labels)"
   ]
  },
  {
   "cell_type": "code",
   "execution_count": null,
   "id": "8f6549d4-9554-4e3a-9087-b11a34af1aed",
   "metadata": {
    "tags": []
   },
   "outputs": [],
   "source": [
    "import corner\n",
    "\n",
    "out_train = model.trained_sampler.get_sampler_state(training=True)\n",
    "print('Logged during tuning:', out_train.keys())\n",
    "\n",
    "chains = np.array(out_train['chains'])\n",
    "global_accs = np.array(out_train['global_accs'])\n",
    "local_accs = np.array(out_train['local_accs'])\n",
    "loss_vals = np.array(out_train['loss_vals'])\n",
    "nf_samples = np.array(model.trained_sampler.sample_flow(1000)[1])\n",
    "\n",
    "\n",
    "# Plot 2 chains in the plane of 2 coordinates for first visual check \n",
    "plt.figure(figsize=(6, 6))\n",
    "axs = [plt.subplot(2, 2, i + 1) for i in range(4)]\n",
    "plt.sca(axs[0])\n",
    "plt.title(\"2d proj of 2 chains\")\n",
    "\n",
    "plt.plot(chains[0, :, 0], chains[0, :, 1], 'o-', alpha=0.5, ms=2)\n",
    "plt.plot(chains[1, :, 0], chains[1, :, 1], 'o-', alpha=0.5, ms=2)\n",
    "plt.xlabel(model.labels[0])\n",
    "plt.ylabel(model.labels[1])\n",
    "\n",
    "plt.sca(axs[1])\n",
    "plt.title(\"NF loss\")\n",
    "plt.plot(loss_vals.reshape(-1))\n",
    "plt.xlabel(\"iteration\")\n",
    "\n",
    "plt.sca(axs[2])\n",
    "plt.title(\"Local Acceptance\")\n",
    "plt.plot(local_accs.mean(0))\n",
    "plt.xlabel(\"iteration\")\n",
    "\n",
    "plt.sca(axs[3])\n",
    "plt.title(\"Global Acceptance\")\n",
    "plt.plot(global_accs.mean(0))\n",
    "plt.xlabel(\"iteration\")\n",
    "plt.tight_layout()\n",
    "plt.show(block=False)\n",
    "\n",
    "# Plot all chains\n",
    "figure = corner.corner(\n",
    "    chains.reshape(-1, len(model.labels)), labels=model.labels\n",
    ")\n",
    "figure.set_size_inches(20, 20)\n",
    "figure.suptitle(\"Visualize samples\")\n",
    "plt.show(block=False)\n",
    "\n",
    "# Plot Nf samples\n",
    "figure = corner.corner(nf_samples, labels=model.labels)\n",
    "figure.set_size_inches(20, 20)\n",
    "figure.suptitle(\"Visualize NF samples\")\n",
    "plt.show()"
   ]
  },
  {
   "cell_type": "code",
   "execution_count": null,
   "id": "e6dcb96e-ead9-46a2-90b2-496e6ebf2641",
   "metadata": {},
   "outputs": [],
   "source": []
  }
 ],
 "metadata": {
  "kernelspec": {
   "display_name": "Python 3",
   "language": "python",
   "name": "python3"
  },
  "language_info": {
   "codemirror_mode": {
    "name": "ipython",
    "version": 3
   },
   "file_extension": ".py",
   "mimetype": "text/x-python",
   "name": "python",
   "nbconvert_exporter": "python",
   "pygments_lexer": "ipython3",
   "version": "3.8.6"
  }
 },
 "nbformat": 4,
 "nbformat_minor": 5
}
